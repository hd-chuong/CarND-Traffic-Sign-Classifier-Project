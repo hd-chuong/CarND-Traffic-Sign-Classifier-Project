{
 "cells": [
  {
   "cell_type": "markdown",
   "metadata": {},
   "source": [
    "## Log-loss Error Function\n"
   ]
  },
  {
   "cell_type": "markdown",
   "metadata": {},
   "source": [
    "### Discrete vs. Continuous\n",
    "\n",
    "Gradient Descent: should be continuous: to measure which direction \n",
    "\n",
    "#### Discrete\n",
    "- Example: 0/1, Yes/No\n",
    "- Step function\n",
    "\n",
    "#### Continuous\n",
    "- Example: percentage, probability\n",
    "- Sigmoid function: $y = \\sigma (aX + b)$\n",
    "\n",
    "\n",
    "### The softmax Function\n",
    "\n",
    "This is the equivalent of the sigmoid activation function, but when the problem has 3 or more classes."
   ]
  },
  {
   "cell_type": "markdown",
   "metadata": {},
   "source": [
    "## Conclusion\n",
    "\n",
    "Which of the following conditions should be met in order to apply gradient descent? (Check all that apply).\n",
    "\n",
    "- The error function should be __differentiable__.\n",
    "- The error function should be __continuous__."
   ]
  },
  {
   "cell_type": "code",
   "execution_count": null,
   "metadata": {},
   "outputs": [],
   "source": []
  }
 ],
 "metadata": {
  "kernelspec": {
   "display_name": "Python 3",
   "language": "python",
   "name": "python3"
  },
  "language_info": {
   "codemirror_mode": {
    "name": "ipython",
    "version": 3
   },
   "file_extension": ".py",
   "mimetype": "text/x-python",
   "name": "python",
   "nbconvert_exporter": "python",
   "pygments_lexer": "ipython3",
   "version": "3.5.2"
  },
  "widgets": {
   "state": {},
   "version": "1.1.2"
  }
 },
 "nbformat": 4,
 "nbformat_minor": 2
}
