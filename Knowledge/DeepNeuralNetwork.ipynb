{
 "cells": [
  {
   "cell_type": "markdown",
   "metadata": {},
   "source": [
    "# Deep Neural Network"
   ]
  },
  {
   "cell_type": "markdown",
   "metadata": {},
   "source": [
    "Neural Network can learn from observing the world, based on the large amount of data input.\n",
    "\n",
    "Automotive manufacturer is using Deep Learning Algorithm in real time.\n",
    "\n"
   ]
  },
  {
   "cell_type": "markdown",
   "metadata": {},
   "source": [
    "## Linear to Logistic Regression\n",
    "\n",
    "Linear regression helps predict values on a continuous spectrum, like predicting what the price of a house will be.\n",
    "\n",
    "How about classifying data among discrete classes?\n",
    "\n",
    "Here are examples of classification tasks:\n",
    "\n",
    "+ Determining whether a patient has cancer\n",
    "+ Identifying the species of a fish\n",
    "+ Figuring out who's talking on a conference call\n",
    "\n",
    "Classification problems are important for self-driving cars. Self-driving cars might need to classify whether an object crossing the road is a car, pedestrian, and a bicycle. Or they might need to identify which type of traffic sign is coming up, or what a stop light is indicating.\n",
    "\n",
    "Linear regression leads to logistic regression and ultimately neural networks, a more advanced classification tool.\n"
   ]
  },
  {
   "cell_type": "markdown",
   "metadata": {},
   "source": [
    "## Perception\n",
    "\n",
    "![Perception](images/perception.png \"Title\")"
   ]
  },
  {
   "cell_type": "markdown",
   "metadata": {},
   "source": [
    "### Heaviside Step Function\n",
    "\n"
   ]
  }
 ],
 "metadata": {
  "kernelspec": {
   "display_name": "Python 3",
   "language": "python",
   "name": "python3"
  },
  "language_info": {
   "codemirror_mode": {
    "name": "ipython",
    "version": 3
   },
   "file_extension": ".py",
   "mimetype": "text/x-python",
   "name": "python",
   "nbconvert_exporter": "python",
   "pygments_lexer": "ipython3",
   "version": "3.5.2"
  },
  "widgets": {
   "state": {},
   "version": "1.1.2"
  }
 },
 "nbformat": 4,
 "nbformat_minor": 2
}
